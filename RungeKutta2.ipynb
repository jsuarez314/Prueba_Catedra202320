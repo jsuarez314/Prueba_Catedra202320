{
  "nbformat": 4,
  "nbformat_minor": 0,
  "metadata": {
    "colab": {
      "provenance": []
    },
    "kernelspec": {
      "name": "python3",
      "display_name": "Python 3"
    },
    "language_info": {
      "name": "python"
    }
  },
  "cells": [
    {
      "cell_type": "markdown",
      "source": [
        "# Runge Kutta de 2o orden para la solución de ecuaciones diferenciales"
      ],
      "metadata": {
        "id": "oRLx-3AefSbY"
      }
    },
    {
      "cell_type": "markdown",
      "source": [
        "El método de runge kutta permite solucionar ecuaciones diferenciales de forma numérica.\n",
        "\n",
        "En esta sesión se usará el método para resolver el problema de un oscilador armónico amortiguado."
      ],
      "metadata": {
        "id": "ngJR01SPfSV4"
      }
    },
    {
      "cell_type": "markdown",
      "source": [
        "Cargamos las librerias"
      ],
      "metadata": {
        "id": "amPGUErjfm_G"
      }
    },
    {
      "cell_type": "code",
      "source": [
        "import numpy as np\n",
        "import matplotlib.pyplot as plt"
      ],
      "metadata": {
        "id": "gHPHPnUgfpAf"
      },
      "execution_count": 2,
      "outputs": []
    },
    {
      "cell_type": "markdown",
      "source": [
        "Definimos la función $\\frac{d^2x}{dt^2}= - 2\\alpha\\,v- \\omega^2e^{-{\\alpha\\,t}}sin(\\omega\\,t)$."
      ],
      "metadata": {
        "id": "22DPuhoojvQh"
      }
    },
    {
      "cell_type": "code",
      "source": [
        "def f(x,v,t):\n",
        "  alpha = 0.5\n",
        "  omega = 10\n",
        "  return -2*alpha*v-omega**2*np.exp(-alpha*t)*np.sin(omega*t)"
      ],
      "metadata": {
        "id": "qDLaxth5fOdv"
      },
      "execution_count": 55,
      "outputs": []
    },
    {
      "cell_type": "code",
      "source": [
        "N = 10\n",
        "x = np.zeros(N, dtype=object)+0.1\n",
        "v = np.zeros(N, dtype=object)+0.001\n",
        "t = np.linspace(0,N,N)\n",
        "\n",
        "h = 0.01\n",
        "\n",
        "for i in range(N-1):\n",
        "\n",
        "  l1 = h*f(x,v,t)\n",
        "  k1 = h*v\n",
        "\n",
        "\n",
        "  l2 = h*f(x+k1/2,v+l1/2,t+h/2)\n",
        "  k2=h*(v+l1/2)\n",
        "\n",
        "  l3 = h*f(x+k2/2,v+l2/2,t+h/2)\n",
        "  k3=h*(v+l2/2)\n",
        "\n",
        "  l4 = h*f(x+k3,v+l3,t+h)\n",
        "  k4=h*(v+l3)\n",
        "\n",
        "  x[i+1] = x[i] + (k1+2*k2+2*k3+k4)/6\n",
        "  v[i+1] = v[i] + (l1+2*l2+2*l3+l4)/6"
      ],
      "metadata": {
        "id": "CnKV9Lujghgg"
      },
      "execution_count": 63,
      "outputs": []
    },
    {
      "cell_type": "code",
      "source": [
        ":("
      ],
      "metadata": {
        "colab": {
          "base_uri": "https://localhost:8080/",
          "height": 133
        },
        "id": "cRcXjKapg_nQ",
        "outputId": "daef6799-ec02-46aa-b12b-1da31e51dc28"
      },
      "execution_count": 62,
      "outputs": [
        {
          "output_type": "error",
          "ename": "SyntaxError",
          "evalue": "ignored",
          "traceback": [
            "\u001b[0;36m  File \u001b[0;32m\"<ipython-input-62-0c33c56e09c7>\"\u001b[0;36m, line \u001b[0;32m1\u001b[0m\n\u001b[0;31m    :()\u001b[0m\n\u001b[0m    ^\u001b[0m\n\u001b[0;31mSyntaxError\u001b[0m\u001b[0;31m:\u001b[0m invalid syntax\n"
          ]
        }
      ]
    },
    {
      "cell_type": "code",
      "source": [],
      "metadata": {
        "id": "ZKUXphGNjXwA"
      },
      "execution_count": null,
      "outputs": []
    }
  ]
}