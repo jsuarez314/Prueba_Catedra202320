{
  "nbformat": 4,
  "nbformat_minor": 0,
  "metadata": {
    "colab": {
      "provenance": []
    },
    "kernelspec": {
      "name": "python3",
      "display_name": "Python 3"
    },
    "language_info": {
      "name": "python"
    }
  },
  "cells": [
    {
      "cell_type": "markdown",
      "source": [
        "# Método de Interpolación de Lagrange"
      ],
      "metadata": {
        "id": "HMRFmtmRL42U"
      }
    },
    {
      "cell_type": "markdown",
      "source": [
        "### **¿Qué es el método de interpolación de Lagrange?**\n",
        "\n",
        "\n",
        "El método de interpolación de Lagrange es un método computacional que permite expresar un modelo dado, $f(x)$, en representación polinomial $L(x)$ a partir de unos datos observados $X$.\n",
        "\n",
        "Es decir, al realizar N mediciones de una cantidad física, $X = (x_0, x_1,x_2, ....., x_N)$, es posible construir un modelo polinomial de grado N, que pase por los puntos observados.\n"
      ],
      "metadata": {
        "id": "CeatxqYJL_Qs"
      }
    },
    {
      "cell_type": "code",
      "execution_count": 1,
      "metadata": {
        "id": "pBAsFsXNK5b9"
      },
      "outputs": [],
      "source": [
        "import numpy as np\n",
        "import matplotlib.pyplot as plt"
      ]
    },
    {
      "cell_type": "markdown",
      "source": [
        "# Problema\n",
        "\n",
        "Encuentre el polinomio de lagrange de grado 5 que pasa por los puntos -1.5, -0.75, 0, 0.75, 1.5, de la función $f(x)=sin(x)$."
      ],
      "metadata": {
        "id": "vqjkquAgcTg-"
      }
    },
    {
      "cell_type": "markdown",
      "source": [
        "El primer paso consiste en definir el modelo, en este caso, los datos son descritos por una función senoidal.\n",
        "\n",
        "\n"
      ],
      "metadata": {
        "id": "kSCs-_V2MLMs"
      }
    },
    {
      "cell_type": "code",
      "source": [
        "def f(x):\n",
        "  return np.sin(x)"
      ],
      "metadata": {
        "id": "aPqPGRkzLPWr"
      },
      "execution_count": 2,
      "outputs": []
    },
    {
      "cell_type": "markdown",
      "source": [
        "Los puntos sobre los cuales queremos encontrar el polinomio de Lagrange son definidos"
      ],
      "metadata": {
        "id": "cltgglCPX5q_"
      }
    },
    {
      "cell_type": "code",
      "source": [
        "x = np.array([-1.5, -0.75, 0, 0.75, 1.5])\n",
        "# En este caso el polinomio que se puede construir es de grado 5"
      ],
      "metadata": {
        "id": "jG95DMCBMQ6L"
      },
      "execution_count": 3,
      "outputs": []
    },
    {
      "cell_type": "markdown",
      "source": [
        "Definimos la funcion que nos permitirá calcular el polinomio de Lagrange.\n",
        "\n",
        "$$L(x) = \\sum_{i=0}^{N} f(x_i)*l_i(x)$$\n",
        "\n",
        "donde $f(x_i)$ es la función evaluada en cada punto $x_i$, y $l_i(x)$, es la base polinomial que debemos encontrar.\n",
        "\n",
        "La base se construye realizando el producto de las razones de las diferencias en el punto $i$-esimo y los puntos $j$-ésimos!=$i$-esimo. $$\\prod \\frac{x-x_{j!=i}}{x_i-x{j!=i}}$$."
      ],
      "metadata": {
        "id": "TmGmM7hLYJSB"
      }
    },
    {
      "cell_type": "code",
      "source": [
        "def L(x_muestra, x):\n",
        "  N = len(x) # calculamos el grado\n",
        "  print(f'Grado: {N}')\n",
        "  pol = 0                           # Se define el polinomio calculado\n",
        "  base = np.ones(N, dtype=object)   # Se definen las bases de grado N\n",
        "  for i in range(N):        \n",
        "    for j in range(-1,N-1):\n",
        "      if i != j+1:                  # Se restringe a j!=i\n",
        "        base[i] = base[i]*(x_muestra-x[j+1])/(x[i]-x[j+1])    #Se calcula la productoria\n",
        "    pol += f(x[i])*base[i]\n",
        "  return pol"
      ],
      "metadata": {
        "id": "oIYNVyPQMYgr"
      },
      "execution_count": 11,
      "outputs": []
    },
    {
      "cell_type": "markdown",
      "source": [
        "Definimos un espacio muestral que nos permitirá evaluar el modelo encontrado."
      ],
      "metadata": {
        "id": "eov5yd6eYBYW"
      }
    },
    {
      "cell_type": "code",
      "source": [
        "n = 100\n",
        "x_muestra = np.linspace(-1.5,1.5,n)\n",
        "x_muestra"
      ],
      "metadata": {
        "colab": {
          "base_uri": "https://localhost:8080/"
        },
        "id": "CcDWOqFqYC63",
        "outputId": "12612302-6899-4415-d10f-4012713fdb17"
      },
      "execution_count": 12,
      "outputs": [
        {
          "output_type": "execute_result",
          "data": {
            "text/plain": [
              "array([-1.5       , -1.46969697, -1.43939394, -1.40909091, -1.37878788,\n",
              "       -1.34848485, -1.31818182, -1.28787879, -1.25757576, -1.22727273,\n",
              "       -1.1969697 , -1.16666667, -1.13636364, -1.10606061, -1.07575758,\n",
              "       -1.04545455, -1.01515152, -0.98484848, -0.95454545, -0.92424242,\n",
              "       -0.89393939, -0.86363636, -0.83333333, -0.8030303 , -0.77272727,\n",
              "       -0.74242424, -0.71212121, -0.68181818, -0.65151515, -0.62121212,\n",
              "       -0.59090909, -0.56060606, -0.53030303, -0.5       , -0.46969697,\n",
              "       -0.43939394, -0.40909091, -0.37878788, -0.34848485, -0.31818182,\n",
              "       -0.28787879, -0.25757576, -0.22727273, -0.1969697 , -0.16666667,\n",
              "       -0.13636364, -0.10606061, -0.07575758, -0.04545455, -0.01515152,\n",
              "        0.01515152,  0.04545455,  0.07575758,  0.10606061,  0.13636364,\n",
              "        0.16666667,  0.1969697 ,  0.22727273,  0.25757576,  0.28787879,\n",
              "        0.31818182,  0.34848485,  0.37878788,  0.40909091,  0.43939394,\n",
              "        0.46969697,  0.5       ,  0.53030303,  0.56060606,  0.59090909,\n",
              "        0.62121212,  0.65151515,  0.68181818,  0.71212121,  0.74242424,\n",
              "        0.77272727,  0.8030303 ,  0.83333333,  0.86363636,  0.89393939,\n",
              "        0.92424242,  0.95454545,  0.98484848,  1.01515152,  1.04545455,\n",
              "        1.07575758,  1.10606061,  1.13636364,  1.16666667,  1.1969697 ,\n",
              "        1.22727273,  1.25757576,  1.28787879,  1.31818182,  1.34848485,\n",
              "        1.37878788,  1.40909091,  1.43939394,  1.46969697,  1.5       ])"
            ]
          },
          "metadata": {},
          "execution_count": 12
        }
      ]
    },
    {
      "cell_type": "markdown",
      "source": [
        "El polinomio resultante evaluado en el espacio muestral es:"
      ],
      "metadata": {
        "id": "q4DYKT_LZ6N_"
      }
    },
    {
      "cell_type": "code",
      "source": [
        "L(x_muestra, x) # La función imprime el grado del polinomio y lo evalua en el espacio muestral"
      ],
      "metadata": {
        "colab": {
          "base_uri": "https://localhost:8080/"
        },
        "id": "4LhWtvuTaBbI",
        "outputId": "69137c82-e9d0-4888-a91e-d607764f0308"
      },
      "execution_count": 13,
      "outputs": [
        {
          "output_type": "stream",
          "name": "stdout",
          "text": [
            "Grado: 5\n"
          ]
        },
        {
          "output_type": "execute_result",
          "data": {
            "text/plain": [
              "array([-0.99749499, -0.99645592, -0.9942467 , -0.99089147, -0.98641435,\n",
              "       -0.98083946, -0.97419094, -0.96649291, -0.95776949, -0.94804482,\n",
              "       -0.93734302, -0.92568821, -0.91310453, -0.8996161 , -0.88524704,\n",
              "       -0.87002149, -0.85396357, -0.8370974 , -0.81944712, -0.80103685,\n",
              "       -0.78189071, -0.76203284, -0.74148736, -0.72027839, -0.69843007,\n",
              "       -0.67596651, -0.65291186, -0.62929022, -0.60512574, -0.58044253,\n",
              "       -0.55526473, -0.52961646, -0.50352184, -0.47700501, -0.45009009,\n",
              "       -0.4228012 , -0.39516248, -0.36719804, -0.33893203, -0.31038855,\n",
              "       -0.28159175, -0.25256574, -0.22333466, -0.19392263, -0.16435377,\n",
              "       -0.13465222, -0.10484209, -0.07494753, -0.04499264, -0.01500157,\n",
              "        0.01500157,  0.04499264,  0.07494753,  0.10484209,  0.13465222,\n",
              "        0.16435377,  0.19392263,  0.22333466,  0.25256574,  0.28159175,\n",
              "        0.31038855,  0.33893203,  0.36719804,  0.39516248,  0.4228012 ,\n",
              "        0.45009009,  0.47700501,  0.50352184,  0.52961646,  0.55526473,\n",
              "        0.58044253,  0.60512574,  0.62929022,  0.65291186,  0.67596651,\n",
              "        0.69843007,  0.72027839,  0.74148736,  0.76203284,  0.78189071,\n",
              "        0.80103685,  0.81944712,  0.8370974 ,  0.85396357,  0.87002149,\n",
              "        0.88524704,  0.8996161 ,  0.91310453,  0.92568821,  0.93734302,\n",
              "        0.94804482,  0.95776949,  0.96649291,  0.97419094,  0.98083946,\n",
              "        0.98641435,  0.99089147,  0.9942467 ,  0.99645592,  0.99749499])"
            ]
          },
          "metadata": {},
          "execution_count": 13
        }
      ]
    },
    {
      "cell_type": "code",
      "source": [
        "plt.plot(x_muestra, f(x_muestra), label='f(x)')\n",
        "plt.scatter(x, L(x, x), label='Lagrange')\n",
        "plt.legend()\n",
        "plt.show()"
      ],
      "metadata": {
        "colab": {
          "base_uri": "https://localhost:8080/",
          "height": 448
        },
        "id": "8tuw52QgNVs7",
        "outputId": "07115329-99d5-4560-972f-c5cff8f19d48"
      },
      "execution_count": 14,
      "outputs": [
        {
          "output_type": "stream",
          "name": "stdout",
          "text": [
            "Grado: 5\n"
          ]
        },
        {
          "output_type": "display_data",
          "data": {
            "text/plain": [
              "<Figure size 640x480 with 1 Axes>"
            ],
            "image/png": "[encoded data removed]"
          },
          "metadata": {}
        }
      ]
    },
    {
      "cell_type": "markdown",
      "source": [
        "## Usando Scipy\n",
        "\n",
        "La libreria scipy trae una implementación que permite calcular los pesos de cada grado del polinomio. \n"
      ],
      "metadata": {
        "id": "6m1EuiOlaOOu"
      }
    },
    {
      "cell_type": "markdown",
      "source": [
        "Primero cargamos el método lagrange del paquete scipy.interpolate."
      ],
      "metadata": {
        "id": "8z4XJ4Gsah72"
      }
    },
    {
      "cell_type": "code",
      "source": [
        "from scipy.interpolate import lagrange"
      ],
      "metadata": {
        "id": "-tu9dBJDPj3b"
      },
      "execution_count": 15,
      "outputs": []
    },
    {
      "cell_type": "markdown",
      "source": [
        "Luego usando el método lagrange, le pasamos los puntos a interpolar, y la función evaluada en dichos puntos. Esto retornará los pesos del polinomio en cada grado."
      ],
      "metadata": {
        "id": "M412fJatalXW"
      }
    },
    {
      "cell_type": "code",
      "source": [
        "y = f(x)\n",
        "poly = lagrange(x, y)"
      ],
      "metadata": {
        "id": "ft8k6jLSam5l"
      },
      "execution_count": 16,
      "outputs": []
    },
    {
      "cell_type": "code",
      "source": [
        "poly"
      ],
      "metadata": {
        "colab": {
          "base_uri": "https://localhost:8080/"
        },
        "id": "TnT17IB-an2O",
        "outputId": "e5403a03-4017-46ec-ea84-0e8d1d6a35f0"
      },
      "execution_count": 17,
      "outputs": [
        {
          "output_type": "execute_result",
          "data": {
            "text/plain": [
              "poly1d([ 5.55111512e-17, -1.44506680e-01,  2.77555756e-17,  9.90136687e-01,\n",
              "        0.00000000e+00])"
            ]
          },
          "metadata": {},
          "execution_count": 17
        }
      ]
    },
    {
      "cell_type": "markdown",
      "source": [
        "Esto quiere decir que el polinomio resultante tiene la forma.\n",
        "\n",
        "$L(x) = -0.144x+0.99x^2$"
      ],
      "metadata": {
        "id": "UNWn3RVzbd2X"
      }
    },
    {
      "cell_type": "code",
      "source": [
        "plt.plot(x_muestra, f(x_muestra), label='f(x)')\n",
        "plt.scatter(x, poly(x), label='Lagrange')\n",
        "plt.legend()\n",
        "plt.show()"
      ],
      "metadata": {
        "colab": {
          "base_uri": "https://localhost:8080/",
          "height": 430
        },
        "id": "hI40OQtzbzQy",
        "outputId": "6d0009a2-8660-4391-c25a-c865c148f3c0"
      },
      "execution_count": 18,
      "outputs": [
        {
          "output_type": "display_data",
          "data": {
            "text/plain": [
              "<Figure size 640x480 with 1 Axes>"
            ],
            "image/png": "[encoded data removed]"
          },
          "metadata": {}
        }
      ]
    },
    {
      "cell_type": "markdown",
      "source": [
        "# Dificultades del método\n",
        "\n",
        "El método puede fallar principalmente en en dos circunstancias.\n",
        "\n",
        "Primero, cuando el numero de puntos a interpolar es muy pequeño, pues esto resultaría en un modelo simple que no sea capaz de representar el modelo.\n",
        "Segundo, una solución al primer problema puede ser incrementar el número de puntos a interpolar, sin emabrgo, esto puede resultar computacionalmente costoso."
      ],
      "metadata": {
        "id": "xIs5ofNbasFe"
      }
    },
    {
      "cell_type": "code",
      "source": [],
      "metadata": {
        "id": "8LvKGPxyeEAm"
      },
      "execution_count": 18,
      "outputs": []
    }
  ]
}